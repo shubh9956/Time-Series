{
  "cells": [
    {
      "cell_type": "markdown",
      "metadata": {
        "id": "view-in-github",
        "colab_type": "text"
      },
      "source": [
        "<a href=\"https://colab.research.google.com/github/shubh9956/Time-Series/blob/main/code_basics/4_Pandas_ts_to_date_time.ipynb\" target=\"_parent\"><img src=\"https://colab.research.google.com/assets/colab-badge.svg\" alt=\"Open In Colab\"/></a>"
      ]
    },
    {
      "cell_type": "markdown",
      "metadata": {
        "id": "JcWuk0j9X6o8"
      },
      "source": [
        "<h1 style=\"color:blue\" align=\"center\">Pandas Time Series Analysis Tutorial: to_datetime</h1>"
      ]
    },
    {
      "cell_type": "code",
      "execution_count": null,
      "metadata": {
        "scrolled": true,
        "id": "3aKNSOPZX6pM",
        "outputId": "b32cab06-2713-4e05-d0c3-9af13ec9ca15"
      },
      "outputs": [
        {
          "data": {
            "text/plain": [
              "DatetimeIndex(['2017-01-05', '2017-01-05', '2017-01-05', '2017-01-05',\n",
              "               '2017-01-05', '2017-01-05'],\n",
              "              dtype='datetime64[ns]', freq=None)"
            ]
          },
          "execution_count": 14,
          "metadata": {},
          "output_type": "execute_result"
        }
      ],
      "source": [
        "import pandas as pd\n",
        "dates = ['2017-01-05', 'Jan 5, 2017', '01/05/2017', '2017.01.05', '2017/01/05','20170105']\n",
        "pd.to_datetime(dates)"
      ]
    },
    {
      "cell_type": "code",
      "execution_count": null,
      "metadata": {
        "id": "GQX4eCyjX6pT",
        "outputId": "34efa196-9ec8-4ac2-d4a4-4babec799688"
      },
      "outputs": [
        {
          "data": {
            "text/plain": [
              "DatetimeIndex(['2017-01-05 14:30:00', '2017-01-05 14:30:00',\n",
              "               '2016-01-05 00:00:00', '2017-01-05 00:00:00',\n",
              "               '2017-01-05 00:00:00', '2017-01-05 00:00:00'],\n",
              "              dtype='datetime64[ns]', freq=None)"
            ]
          },
          "execution_count": 13,
          "metadata": {},
          "output_type": "execute_result"
        }
      ],
      "source": [
        "dt = ['2017-01-05 2:30:00 PM', 'Jan 5, 2017 14:30:00', '01/05/2016', '2017.01.05', '2017/01/05','20170105']\n",
        "pd.to_datetime(dt)"
      ]
    },
    {
      "cell_type": "markdown",
      "metadata": {
        "id": "nLADBT5WX6pW"
      },
      "source": [
        "<h3 style=\"color:purple\">European style dates with day first</h3>"
      ]
    },
    {
      "cell_type": "code",
      "execution_count": null,
      "metadata": {
        "scrolled": true,
        "id": "kdei2F2SX6pX",
        "outputId": "59133d02-7a3e-47aa-a476-2234b7e87729"
      },
      "outputs": [
        {
          "data": {
            "text/plain": [
              "Timestamp('2016-12-30 00:00:00')"
            ]
          },
          "execution_count": 7,
          "metadata": {},
          "output_type": "execute_result"
        }
      ],
      "source": [
        "pd.to_datetime('30-12-2016')"
      ]
    },
    {
      "cell_type": "code",
      "execution_count": null,
      "metadata": {
        "id": "F9Krc2UnX6pY",
        "outputId": "be61e49b-27e3-4199-a3d3-08436bba5292"
      },
      "outputs": [
        {
          "data": {
            "text/plain": [
              "Timestamp('2016-01-05 00:00:00')"
            ]
          },
          "execution_count": 8,
          "metadata": {},
          "output_type": "execute_result"
        }
      ],
      "source": [
        "pd.to_datetime('5-1-2016', dayfirst=True)"
      ]
    },
    {
      "cell_type": "markdown",
      "metadata": {
        "id": "29P1PGNAX6pa"
      },
      "source": [
        "<h3 style=\"color:purple\">Custom date time format</h3>"
      ]
    },
    {
      "cell_type": "code",
      "execution_count": null,
      "metadata": {
        "id": "OVaM0iMCX6pb",
        "outputId": "6c312529-169b-4d41-cdfa-3cc449e59e20"
      },
      "outputs": [
        {
          "data": {
            "text/plain": [
              "Timestamp('2017-01-05 00:00:00')"
            ]
          },
          "execution_count": 3,
          "metadata": {},
          "output_type": "execute_result"
        }
      ],
      "source": [
        "pd.to_datetime('2017$01$05', format='%Y$%m$%d')"
      ]
    },
    {
      "cell_type": "code",
      "execution_count": null,
      "metadata": {
        "id": "_FuUMZUtX6pd",
        "outputId": "bb24980b-36e5-44c8-9a27-3ec08cafbf05"
      },
      "outputs": [
        {
          "data": {
            "text/plain": [
              "Timestamp('2017-01-05 00:00:00')"
            ]
          },
          "execution_count": 4,
          "metadata": {},
          "output_type": "execute_result"
        }
      ],
      "source": [
        "pd.to_datetime('2017#01#05', format='%Y#%m#%d')"
      ]
    },
    {
      "cell_type": "markdown",
      "metadata": {
        "id": "I0hd7w1PX6pf"
      },
      "source": [
        "<h3 style=\"color:purple\">Handling invalid dates</h3>"
      ]
    },
    {
      "cell_type": "code",
      "execution_count": null,
      "metadata": {
        "id": "1KvusBfcX6ph",
        "outputId": "d7a8fb76-7894-4297-8e44-3aafc91c09a3"
      },
      "outputs": [
        {
          "data": {
            "text/plain": [
              "array(['2017-01-05', 'Jan 6, 2017', 'abc'], dtype=object)"
            ]
          },
          "execution_count": 5,
          "metadata": {},
          "output_type": "execute_result"
        }
      ],
      "source": [
        "pd.to_datetime(['2017-01-05', 'Jan 6, 2017', 'abc'], errors='ignore')"
      ]
    },
    {
      "cell_type": "code",
      "execution_count": null,
      "metadata": {
        "scrolled": true,
        "id": "qWAMOTZHX6pi",
        "outputId": "9629226a-f78e-400f-e2fa-5e00726cc969"
      },
      "outputs": [
        {
          "data": {
            "text/plain": [
              "DatetimeIndex(['2017-01-05', '2017-01-06', 'NaT'], dtype='datetime64[ns]', freq=None)"
            ]
          },
          "execution_count": 6,
          "metadata": {},
          "output_type": "execute_result"
        }
      ],
      "source": [
        "pd.to_datetime(['2017-01-05', 'Jan 6, 2017', 'abc'], errors='coerce')"
      ]
    },
    {
      "cell_type": "markdown",
      "metadata": {
        "id": "P6znRZKQX6pj"
      },
      "source": [
        "<h3 style=\"color:purple\">Epoch</h3>"
      ]
    },
    {
      "cell_type": "markdown",
      "metadata": {
        "id": "k7N42acFX6pk"
      },
      "source": [
        "**Epoch or Unix time means number of seconds that have passed since Jan 1, 1970 00:00:00 UTC time**"
      ]
    },
    {
      "cell_type": "code",
      "execution_count": null,
      "metadata": {
        "scrolled": true,
        "id": "dUHQ7S__X6pm",
        "outputId": "582f7db4-2508-412e-fae7-6060dfcecd42"
      },
      "outputs": [
        {
          "data": {
            "text/plain": [
              "Timestamp('2017-07-29 10:34:38')"
            ]
          },
          "execution_count": 15,
          "metadata": {},
          "output_type": "execute_result"
        }
      ],
      "source": [
        "current_epoch = 1501324478\n",
        "pd.to_datetime(current_epoch, unit='s')"
      ]
    },
    {
      "cell_type": "code",
      "execution_count": null,
      "metadata": {
        "scrolled": true,
        "id": "L63WVgApX6po",
        "outputId": "228dd3df-ec51-4bdb-e3ac-5dd17cae8233"
      },
      "outputs": [
        {
          "data": {
            "text/plain": [
              "Timestamp('2017-07-29 10:34:38')"
            ]
          },
          "execution_count": 16,
          "metadata": {},
          "output_type": "execute_result"
        }
      ],
      "source": [
        "pd.to_datetime(current_epoch*1000, unit='ms')"
      ]
    },
    {
      "cell_type": "code",
      "execution_count": null,
      "metadata": {
        "id": "YIpSKISyX6pq",
        "outputId": "c6c433ec-62b7-464e-9966-348508b3367e"
      },
      "outputs": [
        {
          "data": {
            "text/plain": [
              "DatetimeIndex(['2017-07-29 10:34:38'], dtype='datetime64[ns]', freq=None)"
            ]
          },
          "execution_count": 17,
          "metadata": {},
          "output_type": "execute_result"
        }
      ],
      "source": [
        "t = pd.to_datetime([current_epoch], unit='s')\n",
        "t"
      ]
    },
    {
      "cell_type": "code",
      "execution_count": null,
      "metadata": {
        "id": "Tj42_-j0X6pr",
        "outputId": "7c876452-56fa-4fca-a610-408a270172d7"
      },
      "outputs": [
        {
          "data": {
            "text/plain": [
              "array([1501324478000000000], dtype=int64)"
            ]
          },
          "execution_count": 18,
          "metadata": {},
          "output_type": "execute_result"
        }
      ],
      "source": [
        "t.view('int64')"
      ]
    }
  ],
  "metadata": {
    "anaconda-cloud": {},
    "kernelspec": {
      "display_name": "Python [default]",
      "language": "python",
      "name": "python3"
    },
    "language_info": {
      "codemirror_mode": {
        "name": "ipython",
        "version": 3
      },
      "file_extension": ".py",
      "mimetype": "text/x-python",
      "name": "python",
      "nbconvert_exporter": "python",
      "pygments_lexer": "ipython3",
      "version": "3.5.2"
    },
    "colab": {
      "provenance": [],
      "include_colab_link": true
    }
  },
  "nbformat": 4,
  "nbformat_minor": 0
}